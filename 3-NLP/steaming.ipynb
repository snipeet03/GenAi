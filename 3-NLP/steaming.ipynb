{
 "cells": [
  {
   "cell_type": "markdown",
   "id": "5b5e8c95",
   "metadata": {},
   "source": [
    "### Steaming "
   ]
  },
  {
   "cell_type": "code",
   "execution_count": 67,
   "id": "ec3b4661",
   "metadata": {},
   "outputs": [],
   "source": [
    "from nltk.stem import PorterStemmer \n",
    "steamming = PorterStemmer()"
   ]
  },
  {
   "cell_type": "code",
   "execution_count": 68,
   "id": "a67d5308",
   "metadata": {},
   "outputs": [],
   "source": [
    "words = ['eating', 'eats', 'eaten', 'writes',\n",
    "         'writen', 'programming', 'programs', 'histroy', 'finally', 'finalize']"
   ]
  },
  {
   "cell_type": "code",
   "execution_count": 69,
   "id": "3ed4e62b",
   "metadata": {},
   "outputs": [
    {
     "name": "stdout",
     "output_type": "stream",
     "text": [
      "eating ----> eat\n",
      "eats ----> eat\n",
      "eaten ----> eaten\n",
      "writes ----> write\n",
      "writen ----> writen\n",
      "programming ----> program\n",
      "programs ----> program\n",
      "histroy ----> histroy\n",
      "finally ----> final\n",
      "finalize ----> final\n"
     ]
    }
   ],
   "source": [
    "for word in words:\n",
    "    print(word + ' ----> ' + steamming.stem(word))"
   ]
  },
  {
   "cell_type": "code",
   "execution_count": 70,
   "id": "530917f3",
   "metadata": {},
   "outputs": [
    {
     "data": {
      "text/plain": [
       "'congratul'"
      ]
     },
     "execution_count": 70,
     "metadata": {},
     "output_type": "execute_result"
    }
   ],
   "source": [
    "steamming.stem('congratulation')"
   ]
  },
  {
   "cell_type": "markdown",
   "id": "6449857c",
   "metadata": {},
   "source": [
    "### RegxStemmer class"
   ]
  },
  {
   "cell_type": "code",
   "execution_count": 71,
   "id": "8d237d45",
   "metadata": {},
   "outputs": [],
   "source": [
    "from nltk.stem import RegexpStemmer "
   ]
  },
  {
   "cell_type": "code",
   "execution_count": 72,
   "id": "618194cd",
   "metadata": {},
   "outputs": [],
   "source": [
    "reg_stemmer = RegexpStemmer('ing$|en$|s$|able$|ize$|ly$' , min=4)"
   ]
  },
  {
   "cell_type": "code",
   "execution_count": 73,
   "id": "9f45a727",
   "metadata": {},
   "outputs": [
    {
     "name": "stdout",
     "output_type": "stream",
     "text": [
      "eat\n",
      "eat\n",
      "eat\n",
      "write\n",
      "writ\n",
      "programm\n",
      "program\n",
      "histroy\n",
      "final\n",
      "final\n"
     ]
    }
   ],
   "source": [
    "for word in words:\n",
    "    print(reg_stemmer.stem(word) )"
   ]
  },
  {
   "cell_type": "markdown",
   "id": "caae94fc",
   "metadata": {},
   "source": [
    "#### Snowball Stemmer "
   ]
  },
  {
   "cell_type": "code",
   "execution_count": 74,
   "id": "3dd712c9",
   "metadata": {},
   "outputs": [],
   "source": [
    "from nltk.stem import SnowballStemmer"
   ]
  },
  {
   "cell_type": "code",
   "execution_count": 75,
   "id": "e4511d4d",
   "metadata": {},
   "outputs": [],
   "source": [
    "snowballStemmer = SnowballStemmer('english')"
   ]
  },
  {
   "cell_type": "code",
   "execution_count": 76,
   "id": "8a6f0d96",
   "metadata": {},
   "outputs": [
    {
     "name": "stdout",
     "output_type": "stream",
     "text": [
      "eating---->eat\n",
      "eats---->eat\n",
      "eaten---->eaten\n",
      "writes---->write\n",
      "writen---->writen\n",
      "programming---->program\n",
      "programs---->program\n",
      "histroy---->histroy\n",
      "finally---->final\n",
      "finalize---->final\n"
     ]
    }
   ],
   "source": [
    "for word in words:\n",
    "    print(word + \"---->\"+snowballStemmer.stem(word))"
   ]
  },
  {
   "cell_type": "code",
   "execution_count": 78,
   "id": "839175da",
   "metadata": {},
   "outputs": [
    {
     "data": {
      "text/plain": [
       "('fair', 'sport')"
      ]
     },
     "execution_count": 78,
     "metadata": {},
     "output_type": "execute_result"
    }
   ],
   "source": [
    "snowballStemmer.stem('fairly'), snowballStemmer.stem('sportingly')"
   ]
  },
  {
   "cell_type": "code",
   "execution_count": 79,
   "id": "652f5bb1",
   "metadata": {},
   "outputs": [
    {
     "data": {
      "text/plain": [
       "'goe'"
      ]
     },
     "execution_count": 79,
     "metadata": {},
     "output_type": "execute_result"
    }
   ],
   "source": [
    "snowballStemmer.stem('goes')"
   ]
  }
 ],
 "metadata": {
  "kernelspec": {
   "display_name": "venv",
   "language": "python",
   "name": "python3"
  },
  "language_info": {
   "codemirror_mode": {
    "name": "ipython",
    "version": 3
   },
   "file_extension": ".py",
   "mimetype": "text/x-python",
   "name": "python",
   "nbconvert_exporter": "python",
   "pygments_lexer": "ipython3",
   "version": "3.12.5"
  }
 },
 "nbformat": 4,
 "nbformat_minor": 5
}
