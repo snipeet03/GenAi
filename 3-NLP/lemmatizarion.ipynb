{
 "cells": [
  {
   "cell_type": "markdown",
   "id": "e89d1424",
   "metadata": {},
   "source": [
    "### Lemmmatization \n",
    "#### 1. WordNetLemmatizer"
   ]
  },
  {
   "cell_type": "code",
   "execution_count": 3,
   "id": "b34aebe2",
   "metadata": {},
   "outputs": [],
   "source": [
    "import nltk\n",
    "from nltk.stem import WordNetLemmatizer \n",
    "# nltk.download('wordnet')"
   ]
  },
  {
   "cell_type": "code",
   "execution_count": 4,
   "id": "fe215e17",
   "metadata": {},
   "outputs": [],
   "source": [
    "lemmatizer = WordNetLemmatizer()"
   ]
  },
  {
   "cell_type": "code",
   "execution_count": 5,
   "id": "dda49ed1",
   "metadata": {},
   "outputs": [
    {
     "name": "stdout",
     "output_type": "stream",
     "text": [
      "eat\n"
     ]
    }
   ],
   "source": [
    "print(lemmatizer.lemmatize(\"eating\",pos ='v'))"
   ]
  },
  {
   "cell_type": "code",
   "execution_count": 7,
   "id": "f9d3057e-3455-4875-aa81-e70f645da84b",
   "metadata": {},
   "outputs": [
    {
     "name": "stdout",
     "output_type": "stream",
     "text": [
      "work\n"
     ]
    }
   ],
   "source": [
    "print(lemmatizer.lemmatize('working',  pos ='v'))"
   ]
  },
  {
   "cell_type": "code",
   "execution_count": 10,
   "id": "2dc33e38",
   "metadata": {},
   "outputs": [
    {
     "name": "stdout",
     "output_type": "stream",
     "text": [
      "eat\n",
      "eat\n",
      "eat\n",
      "write\n",
      "writen\n",
      "program\n",
      "program\n",
      "histroy\n",
      "finally\n",
      "finalize\n"
     ]
    }
   ],
   "source": [
    "words = ['eating', 'eats', 'eaten', 'writes',\n",
    "         'writen', 'programming', 'programs', 'histroy', 'finally', 'finalize']\n",
    "for word in words :\n",
    "    print(lemmatizer.lemmatize(word, pos ='v'))"
   ]
  }
 ],
 "metadata": {
  "kernelspec": {
   "display_name": "venv",
   "language": "python",
   "name": "python3"
  },
  "language_info": {
   "codemirror_mode": {
    "name": "ipython",
    "version": 3
   },
   "file_extension": ".py",
   "mimetype": "text/x-python",
   "name": "python",
   "nbconvert_exporter": "python",
   "pygments_lexer": "ipython3",
   "version": "3.12.5"
  }
 },
 "nbformat": 4,
 "nbformat_minor": 5
}
