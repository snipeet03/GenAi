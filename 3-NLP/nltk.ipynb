{
 "cells": [
  {
   "cell_type": "markdown",
   "id": "2b36dc58",
   "metadata": {},
   "source": [
    "### Tokenisation using NLTK"
   ]
  },
  {
   "cell_type": "code",
   "execution_count": 120,
   "id": "d7999e91",
   "metadata": {},
   "outputs": [],
   "source": [
    "corpus = \"\"\" Hello Welcome to Krish Naik Tutorials . \n",
    " This is a Python programming tutorial .\n",
    " We will cover various topics in this tutorial .\"\"\""
   ]
  },
  {
   "cell_type": "code",
   "execution_count": 121,
   "id": "cdf88279",
   "metadata": {},
   "outputs": [
    {
     "name": "stdout",
     "output_type": "stream",
     "text": [
      " Hello Welcome to Krish Naik Tutorials . \n",
      " This is a Python programming tutorial .\n",
      " We will cover various topics in this tutorial .\n"
     ]
    }
   ],
   "source": [
    "print(corpus)"
   ]
  },
  {
   "cell_type": "markdown",
   "id": "415e0b30",
   "metadata": {},
   "source": [
    "#####  Tokenisation Sentence --->>  paragraph"
   ]
  },
  {
   "cell_type": "code",
   "execution_count": 122,
   "id": "5820a20c",
   "metadata": {},
   "outputs": [],
   "source": [
    "from nltk.tokenize import sent_tokenize"
   ]
  },
  {
   "cell_type": "code",
   "execution_count": 123,
   "id": "f624236a",
   "metadata": {},
   "outputs": [],
   "source": [
    "documents =sent_tokenize(corpus)"
   ]
  },
  {
   "cell_type": "code",
   "execution_count": 124,
   "id": "ce5abd1b",
   "metadata": {},
   "outputs": [
    {
     "name": "stdout",
     "output_type": "stream",
     "text": [
      " Hello Welcome to Krish Naik Tutorials .\n",
      "This is a Python programming tutorial .\n",
      "We will cover various topics in this tutorial .\n"
     ]
    }
   ],
   "source": [
    "for sentences in documents:\n",
    "    print(sentences)"
   ]
  },
  {
   "cell_type": "markdown",
   "id": "86090a32",
   "metadata": {},
   "source": [
    "#### Paragraph --->>> Words\n",
    "#### Sentence  --->>> words "
   ]
  },
  {
   "cell_type": "code",
   "execution_count": 125,
   "id": "6a081266",
   "metadata": {},
   "outputs": [],
   "source": [
    "from  nltk.tokenize import word_tokenize"
   ]
  },
  {
   "cell_type": "code",
   "execution_count": 126,
   "id": "35a37cd7",
   "metadata": {},
   "outputs": [
    {
     "data": {
      "text/plain": [
       "['Hello',\n",
       " 'Welcome',\n",
       " 'to',\n",
       " 'Krish',\n",
       " 'Naik',\n",
       " 'Tutorials',\n",
       " '.',\n",
       " 'This',\n",
       " 'is',\n",
       " 'a',\n",
       " 'Python',\n",
       " 'programming',\n",
       " 'tutorial',\n",
       " '.',\n",
       " 'We',\n",
       " 'will',\n",
       " 'cover',\n",
       " 'various',\n",
       " 'topics',\n",
       " 'in',\n",
       " 'this',\n",
       " 'tutorial',\n",
       " '.']"
      ]
     },
     "execution_count": 126,
     "metadata": {},
     "output_type": "execute_result"
    }
   ],
   "source": [
    "word_tokenize(corpus)"
   ]
  },
  {
   "cell_type": "code",
   "execution_count": 127,
   "id": "83125b61",
   "metadata": {},
   "outputs": [
    {
     "name": "stdout",
     "output_type": "stream",
     "text": [
      "['Hello', 'Welcome', 'to', 'Krish', 'Naik', 'Tutorials', '.']\n",
      "['This', 'is', 'a', 'Python', 'programming', 'tutorial', '.']\n",
      "['We', 'will', 'cover', 'various', 'topics', 'in', 'this', 'tutorial', '.']\n"
     ]
    }
   ],
   "source": [
    "for sentence in documents:\n",
    "    print(word_tokenize(sentence))"
   ]
  },
  {
   "cell_type": "code",
   "execution_count": 128,
   "id": "c1fc823e",
   "metadata": {},
   "outputs": [],
   "source": [
    "from nltk import wordpunct_tokenize"
   ]
  },
  {
   "cell_type": "code",
   "execution_count": 129,
   "id": "92e185bc",
   "metadata": {},
   "outputs": [
    {
     "data": {
      "text/plain": [
       "['Hello',\n",
       " 'Welcome',\n",
       " 'to',\n",
       " 'Krish',\n",
       " 'Naik',\n",
       " 'Tutorials',\n",
       " '.',\n",
       " 'This',\n",
       " 'is',\n",
       " 'a',\n",
       " 'Python',\n",
       " 'programming',\n",
       " 'tutorial',\n",
       " '.',\n",
       " 'We',\n",
       " 'will',\n",
       " 'cover',\n",
       " 'various',\n",
       " 'topics',\n",
       " 'in',\n",
       " 'this',\n",
       " 'tutorial',\n",
       " '.']"
      ]
     },
     "execution_count": 129,
     "metadata": {},
     "output_type": "execute_result"
    }
   ],
   "source": [
    "wordpunct_tokenize(corpus)"
   ]
  },
  {
   "cell_type": "code",
   "execution_count": 130,
   "id": "cd0f2c7d",
   "metadata": {},
   "outputs": [],
   "source": [
    "from nltk.tokenize import TreebankWordDetokenizer"
   ]
  },
  {
   "cell_type": "code",
   "execution_count": 131,
   "id": "b86a953d",
   "metadata": {},
   "outputs": [],
   "source": [
    "tokenizer=TreebankWordDetokenizer()"
   ]
  },
  {
   "cell_type": "code",
   "execution_count": null,
   "id": "c9a407f7",
   "metadata": {},
   "outputs": [
    {
     "data": {
      "text/plain": [
       "'H e l l o   W e l c o m e   t o   K r i s h   N a i k   T u t o r i a l s   .   \\n   T h i s   i s   a   P y t h o n   p r o g r a m m i n g   t u t o r i a l   . \\n   W e   w i l l   c o v e r   v a r i o u s   t o p i c s   i n   t h i s   t u t o r i a l  .'"
      ]
     },
     "execution_count": 132,
     "metadata": {},
     "output_type": "execute_result"
    },
    {
     "ename": "",
     "evalue": "",
     "output_type": "error",
     "traceback": [
      "\u001b[1;31mThe Kernel crashed while executing code in the current cell or a previous cell. \n",
      "\u001b[1;31mPlease review the code in the cell(s) to identify a possible cause of the failure. \n",
      "\u001b[1;31mClick <a href='https://aka.ms/vscodeJupyterKernelCrash'>here</a> for more info. \n",
      "\u001b[1;31mView Jupyter <a href='command:jupyter.viewOutput'>log</a> for further details."
     ]
    }
   ],
   "source": [
    "tokenizer.tokenize(corpus)"
   ]
  },
  {
   "cell_type": "markdown",
   "id": "59537710",
   "metadata": {},
   "source": [
    "#### last fullstop is consider as the word not all the fullstop there "
   ]
  }
 ],
 "metadata": {
  "kernelspec": {
   "display_name": "venv",
   "language": "python",
   "name": "python3"
  },
  "language_info": {
   "codemirror_mode": {
    "name": "ipython",
    "version": 3
   },
   "file_extension": ".py",
   "mimetype": "text/x-python",
   "name": "python",
   "nbconvert_exporter": "python",
   "pygments_lexer": "ipython3",
   "version": "3.12.5"
  }
 },
 "nbformat": 4,
 "nbformat_minor": 5
}
