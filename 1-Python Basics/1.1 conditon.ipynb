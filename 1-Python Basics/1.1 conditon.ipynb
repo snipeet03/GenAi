{
 "cells": [
  {
   "cell_type": "code",
   "execution_count": null,
   "id": "ab8a0680",
   "metadata": {},
   "outputs": [
    {
     "name": "stdout",
     "output_type": "stream",
     "text": [
      "You can drive next year\n"
     ]
    }
   ],
   "source": [
    "age = 13 \n",
    "if age > 16:\n",
    "    print(\"You can drive\")\n",
    "else:\n",
    "    print(\"You can drive next year\")   "
   ]
  },
  {
   "cell_type": "code",
   "execution_count": null,
   "id": "d454c091",
   "metadata": {},
   "outputs": [
    {
     "name": "stdout",
     "output_type": "stream",
     "text": [
      " year is not a leap year \n"
     ]
    }
   ],
   "source": [
    "year=int(input(\"Enter year : \"))\n",
    "if year%4==0:\n",
    "    if year%400== 0:\n",
    "        print(\"{year} is a leap year\");\n",
    "    else:\n",
    "        print('year is not a leap year '); \n",
    "else:\n",
    "    print(\"{year} is not a leap year \");"
   ]
  }
 ],
 "metadata": {
  "kernelspec": {
   "display_name": "Python 3",
   "language": "python",
   "name": "python3"
  },
  "language_info": {
   "codemirror_mode": {
    "name": "ipython",
    "version": 3
   },
   "file_extension": ".py",
   "mimetype": "text/x-python",
   "name": "python",
   "nbconvert_exporter": "python",
   "pygments_lexer": "ipython3",
   "version": "3.12.5"
  }
 },
 "nbformat": 4,
 "nbformat_minor": 5
}
